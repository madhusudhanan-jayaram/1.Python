{
 "cells": [
  {
   "metadata": {
    "trusted": true
   },
   "cell_type": "code",
   "source": "#print odd numbers in the list\ninputnumbers = (20,10,16,19,25,1,276,188)\nfor i in inputnumbers:\n    if (i%2!=0):\n        print(i ,  \"is odd\")",
   "execution_count": 7,
   "outputs": [
    {
     "output_type": "stream",
     "text": "19 is odd\n25 is odd\n1 is odd\n",
     "name": "stdout"
    }
   ]
  },
  {
   "metadata": {
    "trusted": false
   },
   "cell_type": "code",
   "source": "",
   "execution_count": null,
   "outputs": []
  }
 ],
 "metadata": {
  "kernelspec": {
   "name": "python3",
   "display_name": "Python 3",
   "language": "python"
  },
  "language_info": {
   "name": "python",
   "version": "3.10.4",
   "mimetype": "text/x-python",
   "codemirror_mode": {
    "name": "ipython",
    "version": 3
   },
   "pygments_lexer": "ipython3",
   "nbconvert_exporter": "python",
   "file_extension": ".py"
  }
 },
 "nbformat": 4,
 "nbformat_minor": 2
}