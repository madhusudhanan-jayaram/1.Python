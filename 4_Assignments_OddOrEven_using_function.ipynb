{
 "cells": [
  {
   "metadata": {
    "trusted": false
   },
   "cell_type": "code",
   "source": "#create a function that checks whether the given number is odd or even.\nclass oddEven:\n    def oddEven(a):\n        if a%2==0:\n            print (f\"{a} is even\")\n        else:\n            print (f\"{a} is odd\")\n\na = int(input(\"Enter a number: \"))\noddEven.oddEven(a)",
   "execution_count": 7,
   "outputs": [
    {
     "output_type": "stream",
     "name": "stdout",
     "text": "Enter a number: 45\n45 is odd\n"
    }
   ]
  }
 ],
 "metadata": {
  "kernelspec": {
   "name": "python3",
   "display_name": "Python 3",
   "language": "python"
  },
  "language_info": {
   "name": "python",
   "version": "3.10.4",
   "mimetype": "text/x-python",
   "codemirror_mode": {
    "name": "ipython",
    "version": 3
   },
   "pygments_lexer": "ipython3",
   "nbconvert_exporter": "python",
   "file_extension": ".py"
  }
 },
 "nbformat": 4,
 "nbformat_minor": 2
}