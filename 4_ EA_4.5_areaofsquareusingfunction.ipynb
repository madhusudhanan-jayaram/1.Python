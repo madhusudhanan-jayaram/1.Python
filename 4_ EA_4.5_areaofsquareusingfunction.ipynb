{
 "cells": [
  {
   "metadata": {
    "trusted": true
   },
   "cell_type": "code",
   "source": "class triangle:\n    def triangle():\n        Height = 32\n        Breadth = 34\n        area = (Height*Breadth)/2\n        print('Height: ', Height)\n        print('Breadth: ', Breadth)\n        print('Area of Triangle: ', area)\n        Height1 = 2\n        Height2 = 4\n        Breadth = 4\n        perimeter = Height1+Height2+Breadth\n        print('Height: ', Height)\n        print('Breadth: ', Breadth)\n        print('Perimeter of Triangle: ', perimeter)\n        \ntriangle.triangle()",
   "execution_count": 6,
   "outputs": [
    {
     "output_type": "stream",
     "text": "Height:  32\nBreadth:  34\nArea of Triangle:  544.0\nHeight:  32\nBreadth:  4\nPerimeter of Triangle:  10\n",
     "name": "stdout"
    }
   ]
  }
 ],
 "metadata": {
  "kernelspec": {
   "name": "python3",
   "display_name": "Python 3",
   "language": "python"
  },
  "language_info": {
   "name": "python",
   "version": "3.10.4",
   "mimetype": "text/x-python",
   "codemirror_mode": {
    "name": "ipython",
    "version": 3
   },
   "pygments_lexer": "ipython3",
   "nbconvert_exporter": "python",
   "file_extension": ".py"
  }
 },
 "nbformat": 4,
 "nbformat_minor": 2
}