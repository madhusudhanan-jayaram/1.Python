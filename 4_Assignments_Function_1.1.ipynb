{
 "cells": [
  {
   "metadata": {
    "trusted": true
   },
   "cell_type": "code",
   "source": "#create a class and function and list out the items in the list\nclass SubfieldsInAI:\n    def subdomainsinAI():\n        print(\"Sub-fields in AI are:\")\n        print(\"Machine Learning\")\n        print(\"Neural Networks\")\n        print(\"Vision\")\n        print(\"Robotics\")\n        print(\"Speech Processing\")\n        print(\"Natural Language Processing\")\nSubfieldsInAI.subdomainsinAI()\n",
   "execution_count": 2,
   "outputs": [
    {
     "output_type": "stream",
     "text": "Sub-fields in AI are:\nMachine Learning\nNeural Networks\nVision\nRobotics\nSpeech Processing\nNatural Language Processing\n",
     "name": "stdout"
    }
   ]
  },
  {
   "metadata": {
    "trusted": false
   },
   "cell_type": "code",
   "source": "",
   "execution_count": null,
   "outputs": []
  }
 ],
 "metadata": {
  "kernelspec": {
   "name": "python3",
   "display_name": "Python 3",
   "language": "python"
  },
  "language_info": {
   "name": "python",
   "version": "3.10.4",
   "mimetype": "text/x-python",
   "codemirror_mode": {
    "name": "ipython",
    "version": 3
   },
   "pygments_lexer": "ipython3",
   "nbconvert_exporter": "python",
   "file_extension": ".py"
  }
 },
 "nbformat": 4,
 "nbformat_minor": 2
}