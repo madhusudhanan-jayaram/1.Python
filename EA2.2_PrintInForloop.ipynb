{
 "cells": [
  {
   "metadata": {
    "trusted": true
   },
   "cell_type": "code",
   "source": "# print 10 to 20\nfor i in range(10,20):\n    print (i)",
   "execution_count": 2,
   "outputs": [
    {
     "output_type": "stream",
     "text": "10\n11\n12\n13\n14\n15\n16\n17\n18\n19\n",
     "name": "stdout"
    }
   ]
  }
 ],
 "metadata": {
  "kernelspec": {
   "name": "python3",
   "display_name": "Python 3",
   "language": "python"
  },
  "language_info": {
   "name": "python",
   "version": "3.10.4",
   "mimetype": "text/x-python",
   "codemirror_mode": {
    "name": "ipython",
    "version": 3
   },
   "pygments_lexer": "ipython3",
   "nbconvert_exporter": "python",
   "file_extension": ".py"
  }
 },
 "nbformat": 4,
 "nbformat_minor": 2
}