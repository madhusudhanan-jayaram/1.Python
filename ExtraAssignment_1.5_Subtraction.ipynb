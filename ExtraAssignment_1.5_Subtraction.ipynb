{
 "cells": [
  {
   "metadata": {
    "trusted": true
   },
   "cell_type": "code",
   "source": "decinput1= float(input(\"Enter 1st fraction number: \"))\ndecinput2= float(input(\"Enter 2nd fraction number: \"))\nsubtract= decinput1-decinput2\nprint(subtract)",
   "execution_count": 3,
   "outputs": [
    {
     "output_type": "stream",
     "name": "stdout",
     "text": "Enter 1st fraction number: 56.89\nEnter 2nd fraction number: 45.36\n11.530000000000001\n"
    }
   ]
  }
 ],
 "metadata": {
  "kernelspec": {
   "name": "python3",
   "display_name": "Python 3",
   "language": "python"
  },
  "language_info": {
   "name": "python",
   "version": "3.10.4",
   "mimetype": "text/x-python",
   "codemirror_mode": {
    "name": "ipython",
    "version": 3
   },
   "pygments_lexer": "ipython3",
   "nbconvert_exporter": "python",
   "file_extension": ".py"
  }
 },
 "nbformat": 4,
 "nbformat_minor": 2
}