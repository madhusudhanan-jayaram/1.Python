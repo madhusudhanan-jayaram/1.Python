{
 "cells": [
  {
   "metadata": {
    "trusted": true
   },
   "cell_type": "code",
   "source": "#bmi index program\nbmiIndex=int(input('Enter the BMI Index: '))\nif(bmiIndex < 18.5):\n    print('Underweight')\nelif(bmiIndex<24.9):\n    print('Healthy Weight')\nelif(bmiIndex<29.9):\n    print(\"Overweight\")\nelif(bmiIndex<34.9):\n    print(\"Obesity(Class I)\")\nelif(bmiIndex<39.9):\n    print(\"Obesity (Class II)\")\nelif(bmiIndex>=40):\n    print(\"Extreme Obesity (Class III)\")\n",
   "execution_count": 1,
   "outputs": [
    {
     "output_type": "stream",
     "name": "stdout",
     "text": "Enter the BMI Index: 89\nExtreme Obesity (Class III)\n"
    }
   ]
  },
  {
   "metadata": {
    "trusted": true
   },
   "cell_type": "code",
   "source": "",
   "execution_count": null,
   "outputs": []
  }
 ],
 "metadata": {
  "kernelspec": {
   "name": "python3",
   "display_name": "Python 3",
   "language": "python"
  },
  "language_info": {
   "name": "python",
   "version": "3.10.4",
   "mimetype": "text/x-python",
   "codemirror_mode": {
    "name": "ipython",
    "version": 3
   },
   "pygments_lexer": "ipython3",
   "nbconvert_exporter": "python",
   "file_extension": ".py"
  }
 },
 "nbformat": 4,
 "nbformat_minor": 2
}