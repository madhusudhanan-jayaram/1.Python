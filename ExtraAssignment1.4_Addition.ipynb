{
 "cells": [
  {
   "metadata": {
    "trusted": true
   },
   "cell_type": "code",
   "source": "a = int(input(\"Enter 1st number : \"))\nb = int(input(\"Enter 2nd number : \"))\nadd = a+b\nprint(\"Addition of 2 numbers %d and %d is %d \" %(a,b,add))",
   "execution_count": 11,
   "outputs": [
    {
     "output_type": "stream",
     "name": "stdout",
     "text": "Enter 1st number : 56\nEnter 2nd number : 89\nAddition of 2 numbers 56 and 89 is 145 \n"
    }
   ]
  }
 ],
 "metadata": {
  "kernelspec": {
   "name": "python3",
   "display_name": "Python 3",
   "language": "python"
  },
  "language_info": {
   "name": "python",
   "version": "3.10.4",
   "mimetype": "text/x-python",
   "codemirror_mode": {
    "name": "ipython",
    "version": 3
   },
   "pygments_lexer": "ipython3",
   "nbconvert_exporter": "python",
   "file_extension": ".py"
  }
 },
 "nbformat": 4,
 "nbformat_minor": 2
}