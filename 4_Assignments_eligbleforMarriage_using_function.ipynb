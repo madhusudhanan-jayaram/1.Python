{
 "cells": [
  {
   "metadata": {
    "trusted": true
   },
   "cell_type": "code",
   "source": "#create a function that tells eligility of marriage for male and female according to their age limit like 21 for male and 18 for female\ndef eligileForMarriage(gender,age):\n    upper_gender = gender.upper().strip()\n    print (f\"Your gender: {upper_gender}\")\n    print (f\"Your age: {age}\")\n    if (upper_gender =='MALE'):\n        if (age >= 18):\n            print(\"ELIGIBLE FOR MARRIAGE\")\n        else:\n            print(\"NOT ELIGIBLE FOR MARRIAGE\")\n    elif(upper_gender =='FEMALE'):\n        if (age >= 21):\n            print(\"ELIGIBLE FOR MARRIAGE\")\n        else:\n            print(\"NOT ELIGIBLE FOR MARRIAGE\")\n    else:\n        print (\"you've entered the unacceptable gender\")\ngender = input(\"Enter your Gender: \")\nage = int(input(\"Enter your Age: \"))\neligileForMarriage(gender, age)",
   "execution_count": 5,
   "outputs": [
    {
     "output_type": "stream",
     "name": "stdout",
     "text": "Enter your Gender:    Male\nEnter your Age: 45\nYour gender: MALE\nYour age: 45\nELIGIBLE FOR MARRIAGE\n"
    }
   ]
  }
 ],
 "metadata": {
  "kernelspec": {
   "name": "python3",
   "display_name": "Python 3",
   "language": "python"
  },
  "language_info": {
   "name": "python",
   "version": "3.10.4",
   "mimetype": "text/x-python",
   "codemirror_mode": {
    "name": "ipython",
    "version": 3
   },
   "pygments_lexer": "ipython3",
   "nbconvert_exporter": "python",
   "file_extension": ".py"
  }
 },
 "nbformat": 4,
 "nbformat_minor": 2
}