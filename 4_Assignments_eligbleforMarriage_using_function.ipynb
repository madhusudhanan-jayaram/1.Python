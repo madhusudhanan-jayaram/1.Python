{
 "cells": [
  {
   "metadata": {
    "trusted": true
   },
   "cell_type": "code",
   "source": "#create a function that tells eligility of marriage for male and female according to their age limit like 21 for male and 18 for female\nclass EligiblityForMarriage:\n    def eligileForMarriage(gender,age):\n        upper_gender = gender.upper().strip()\n        print (f\"Your gender: {upper_gender}\")\n        print (f\"Your age: {age}\")\n        if (upper_gender =='MALE'):\n            if (age >= 18):\n                print(\"ELIGIBLE FOR MARRIAGE\")\n            else:\n                print(\"NOT ELIGIBLE FOR MARRIAGE\")\n        elif(upper_gender =='FEMALE'):\n            if (age >= 21):\n                print(\"ELIGIBLE FOR MARRIAGE\")\n            else:\n                print(\"NOT ELIGIBLE FOR MARRIAGE\")\n        else:\n            print (\"you've entered the unacceptable gender\")\n            \ngender = input(\"Enter your Gender: \")\nage = int(input(\"Enter your Age: \"))\nEligiblityForMarriage.eligileForMarriage(gender, age)",
   "execution_count": 1,
   "outputs": [
    {
     "output_type": "stream",
     "name": "stdout",
     "text": "Enter your Gender: Male\nEnter your Age: Y\n"
    },
    {
     "output_type": "error",
     "ename": "ValueError",
     "evalue": "invalid literal for int() with base 10: 'Y'",
     "traceback": [
      "\u001b[0;31m---------------------------------------------------------------------------\u001b[0m",
      "\u001b[0;31mValueError\u001b[0m                                Traceback (most recent call last)",
      "\u001b[0;32m<ipython-input-1-7506e7a47739>\u001b[0m in \u001b[0;36m<module>\u001b[0;34m\u001b[0m\n\u001b[1;32m     19\u001b[0m \u001b[0;34m\u001b[0m\u001b[0m\n\u001b[1;32m     20\u001b[0m \u001b[0mgender\u001b[0m \u001b[0;34m=\u001b[0m \u001b[0minput\u001b[0m\u001b[0;34m(\u001b[0m\u001b[0;34m\"Enter your Gender: \"\u001b[0m\u001b[0;34m)\u001b[0m\u001b[0;34m\u001b[0m\u001b[0;34m\u001b[0m\u001b[0m\n\u001b[0;32m---> 21\u001b[0;31m \u001b[0mage\u001b[0m \u001b[0;34m=\u001b[0m \u001b[0mint\u001b[0m\u001b[0;34m(\u001b[0m\u001b[0minput\u001b[0m\u001b[0;34m(\u001b[0m\u001b[0;34m\"Enter your Age: \"\u001b[0m\u001b[0;34m)\u001b[0m\u001b[0;34m)\u001b[0m\u001b[0;34m\u001b[0m\u001b[0;34m\u001b[0m\u001b[0m\n\u001b[0m\u001b[1;32m     22\u001b[0m \u001b[0mEligiblityForMarriage\u001b[0m\u001b[0;34m.\u001b[0m\u001b[0meligileForMarriage\u001b[0m\u001b[0;34m(\u001b[0m\u001b[0mgender\u001b[0m\u001b[0;34m,\u001b[0m \u001b[0mage\u001b[0m\u001b[0;34m)\u001b[0m\u001b[0;34m\u001b[0m\u001b[0;34m\u001b[0m\u001b[0m\n",
      "\u001b[0;31mValueError\u001b[0m: invalid literal for int() with base 10: 'Y'"
     ]
    }
   ]
  }
 ],
 "metadata": {
  "kernelspec": {
   "name": "python3",
   "display_name": "Python 3",
   "language": "python"
  },
  "language_info": {
   "name": "python",
   "version": "3.10.4",
   "mimetype": "text/x-python",
   "codemirror_mode": {
    "name": "ipython",
    "version": 3
   },
   "pygments_lexer": "ipython3",
   "nbconvert_exporter": "python",
   "file_extension": ".py"
  }
 },
 "nbformat": 4,
 "nbformat_minor": 2
}