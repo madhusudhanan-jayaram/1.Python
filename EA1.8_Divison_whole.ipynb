{
 "cells": [
  {
   "metadata": {
    "trusted": true
   },
   "cell_type": "code",
   "source": "a=int(input(\"Enter 1st number: \"))\nb=int(input(\"Enter 2nd number: \"))\nmod = round(a%b,6)\nformattedAnswer= \"%d\" %mod\nprint (f\"Division of {a} & {b} is {formattedAnswer}\")",
   "execution_count": 3,
   "outputs": [
    {
     "output_type": "stream",
     "name": "stdout",
     "text": "Enter 1st number: 96\nEnter 2nd number: 8\nDivision of 96 & 8 is 0\n"
    }
   ]
  }
 ],
 "metadata": {
  "kernelspec": {
   "name": "python3",
   "display_name": "Python 3",
   "language": "python"
  },
  "language_info": {
   "name": "python",
   "version": "3.10.4",
   "mimetype": "text/x-python",
   "codemirror_mode": {
    "name": "ipython",
    "version": 3
   },
   "pygments_lexer": "ipython3",
   "nbconvert_exporter": "python",
   "file_extension": ".py"
  }
 },
 "nbformat": 4,
 "nbformat_minor": 2
}