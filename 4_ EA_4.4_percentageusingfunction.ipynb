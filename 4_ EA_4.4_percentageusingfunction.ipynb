{
 "cells": [
  {
   "metadata": {
    "trusted": true
   },
   "cell_type": "code",
   "source": "class triangle:\n    def triangle():\n        height=32\n        breadth=34\n        area= (height*breadth)/2\n        print(\"Area of triangle\", area)\n    \ntriangle.triangle()",
   "execution_count": 5,
   "outputs": [
    {
     "output_type": "stream",
     "text": "Area of triangle 544.0\n",
     "name": "stdout"
    }
   ]
  }
 ],
 "metadata": {
  "kernelspec": {
   "name": "python3",
   "display_name": "Python 3",
   "language": "python"
  },
  "language_info": {
   "name": "python",
   "version": "3.10.4",
   "mimetype": "text/x-python",
   "codemirror_mode": {
    "name": "ipython",
    "version": 3
   },
   "pygments_lexer": "ipython3",
   "nbconvert_exporter": "python",
   "file_extension": ".py"
  }
 },
 "nbformat": 4,
 "nbformat_minor": 2
}