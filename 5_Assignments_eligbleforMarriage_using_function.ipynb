{
 "cells": [
  {
   "metadata": {
    "trusted": false
   },
   "cell_type": "code",
   "source": "from EligiblityForMarriage import EligiblityForMarriage\nEligiblityForMarriage.eligileForMarriage()",
   "execution_count": 3,
   "outputs": [
    {
     "output_type": "stream",
     "name": "stdout",
     "text": "Enter your Gender: Male\nEnter your Age: 0\nYour gender: MALE\nYour age: 0\nNOT ELIGIBLE FOR MARRIAGE\n"
    }
   ]
  }
 ],
 "metadata": {
  "kernelspec": {
   "name": "python3",
   "display_name": "Python 3",
   "language": "python"
  },
  "language_info": {
   "name": "python",
   "version": "3.10.4",
   "mimetype": "text/x-python",
   "codemirror_mode": {
    "name": "ipython",
    "version": 3
   },
   "pygments_lexer": "ipython3",
   "nbconvert_exporter": "python",
   "file_extension": ".py"
  }
 },
 "nbformat": 4,
 "nbformat_minor": 2
}