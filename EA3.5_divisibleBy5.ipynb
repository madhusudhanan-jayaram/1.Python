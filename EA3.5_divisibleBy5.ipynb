{
 "cells": [
  {
   "metadata": {
    "collapsed": true,
    "trusted": false
   },
   "cell_type": "code",
   "source": "#Find whether given number is positive or negative\ninputNum = int(input('Enter the number: '))\nif (inputNum<0):\n    print (f\" Entered Number is negative\", inputNum)\nelif (inputNum==0):\n    print (f\" Entered Number is neither postive nor negtative\", inputNum)\nelif (inputNum>0):\n    print (f\" Entered Number is postive, inputNum\", inputNum)",
   "execution_count": 10,
   "outputs": [
    {
     "output_type": "stream",
     "name": "stdout",
     "text": "Enter the number: 5\n Entered Number is postive, inputNum 5\n"
    }
   ]
  },
  {
   "metadata": {
    "trusted": false
   },
   "cell_type": "code",
   "source": "",
   "execution_count": null,
   "outputs": []
  }
 ],
 "metadata": {
  "kernelspec": {
   "name": "python3",
   "display_name": "Python 3",
   "language": "python"
  },
  "language_info": {
   "name": "python",
   "version": "3.10.4",
   "mimetype": "text/x-python",
   "codemirror_mode": {
    "name": "ipython",
    "version": 3
   },
   "pygments_lexer": "ipython3",
   "nbconvert_exporter": "python",
   "file_extension": ".py"
  }
 },
 "nbformat": 4,
 "nbformat_minor": 2
}